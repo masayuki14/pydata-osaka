{
 "cells": [
  {
   "cell_type": "code",
   "execution_count": 1,
   "metadata": {},
   "outputs": [],
   "source": [
    "import pandas as pd\n",
    "import mysql.connector\n",
    "import pandas.io.sql as psql\n",
    "conf = {\n",
    "    'user': 'root',\n",
    "    'password': 'root',\n",
    "    'host': 'db',\n",
    "    'database': 'pydata'\n",
    "}\n",
    "\n",
    "con = mysql.connector.connect(**conf)"
   ]
  },
  {
   "cell_type": "code",
   "execution_count": 2,
   "metadata": {},
   "outputs": [],
   "source": [
    "\n",
    "df = psql.read_sql('''\n",
    "select\n",
    "    *\n",
    "    , addtime( `date` , `time` ) as `datetime`\n",
    "    , year(`date`) as year\n",
    "    , month(`date`) as month\n",
    "from waiting_time\n",
    "    join attractions using (attraction_id)\n",
    "where\n",
    "    waiting_time is not null\n",
    "''', con)\n"
   ]
  },
  {
   "cell_type": "code",
   "execution_count": null,
   "metadata": {},
   "outputs": [],
   "source": []
  }
 ],
 "metadata": {
  "kernelspec": {
   "display_name": "Python 3",
   "language": "python",
   "name": "python3"
  },
  "language_info": {
   "codemirror_mode": {
    "name": "ipython",
    "version": 3
   },
   "file_extension": ".py",
   "mimetype": "text/x-python",
   "name": "python",
   "nbconvert_exporter": "python",
   "pygments_lexer": "ipython3",
   "version": "3.6.7"
  }
 },
 "nbformat": 4,
 "nbformat_minor": 2
}
